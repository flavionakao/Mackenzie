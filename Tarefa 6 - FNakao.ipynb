{
  "nbformat": 4,
  "nbformat_minor": 0,
  "metadata": {
    "colab": {
      "name": "Untitled12.ipynb",
      "provenance": [],
      "authorship_tag": "ABX9TyOjzEdXVuNjKy6xcQXF7x2A",
      "include_colab_link": true
    },
    "kernelspec": {
      "name": "python3",
      "display_name": "Python 3"
    },
    "language_info": {
      "name": "python"
    }
  },
  "cells": [
    {
      "cell_type": "markdown",
      "metadata": {
        "id": "view-in-github",
        "colab_type": "text"
      },
      "source": [
        "<a href=\"https://colab.research.google.com/github/flavionakao/Mackenzie/blob/main/Tarefa%206%20-%20FNakao.ipynb\" target=\"_parent\"><img src=\"https://colab.research.google.com/assets/colab-badge.svg\" alt=\"Open In Colab\"/></a>"
      ]
    },
    {
      "cell_type": "markdown",
      "source": [
        ""
      ],
      "metadata": {
        "id": "4MWhr5C_6EPO"
      }
    },
    {
      "cell_type": "code",
      "source": [
        "#INSTALANDO A BIBLIOTECA PARA FAZER A CONEXÃO COM A API DO TWITTER\n",
        "pip install tweepy"
      ],
      "metadata": {
        "id": "nvzDCLcXw1lV"
      },
      "execution_count": null,
      "outputs": []
    },
    {
      "cell_type": "code",
      "source": [
        "#IMPORTANDO A BIBLIOTECA PARA DENTRO DO CÓDIGO\n",
        "import tweepy as tw"
      ],
      "metadata": {
        "id": "rtZS0O06w69W"
      },
      "execution_count": 4,
      "outputs": []
    },
    {
      "cell_type": "code",
      "source": [
        "\n",
        "#MINHAS CHAVES DE DEVELOPER TWITTER\n",
        "consumer_key = 'AxGFlxXdbuMxxmmOXTWgvCCxt'\n",
        "consumer_secret = 'uI12GC5c48UNlrAuTdftpdpqSX7S12iw3E6sA6rczCpM4rSt0s'\n",
        "access_token = '974321633828704256-RPpz4fCEQTQr9xoyURv0cad1ULRMG3t'\n",
        "access_token_secret = 'iIAT7zyaZXnmnqexmdXT4Nwk1pGEmSVf71Z8i7MrxJOhG'\n",
        "\n",
        "#OBJETO QUE SOLICITARÁ AUTORIZAÇÃO PELO MÉTODO 'OAuthHandler' \n",
        "autorizacao = tw.OAuthHandler(consumer_key, consumer_secret)\n",
        "\n",
        "#INFORMANDO AO TWITTER NOSSOS TOKENS DA API\n",
        "autorizacao.set_access_token(access_token, access_token_secret)\n",
        "\n",
        "#GERANDO A CONEXÃO NATIVA DA API\n",
        "api = tw.API(autorizacao)\n",
        "\n",
        "#A VARIÁVEL \"home_timeline()\" FAZ COM QUE OS 20 PUBLICAÇÕES MAIS RECENTES QUE APARECEM NO MEU PERFIL SEJAM ARMAZENADAS NELA\n",
        "meus_tweets = api.home_timeline()"
      ],
      "metadata": {
        "id": "TyQR50mixAb1"
      },
      "execution_count": 6,
      "outputs": []
    },
    {
      "cell_type": "code",
      "source": [
        "#RETORNANDO MEUS TWEETS SEM TRATAMENTO\n",
        "print(meus_tweets)"
      ],
      "metadata": {
        "id": "flXBhYB702aP"
      },
      "execution_count": null,
      "outputs": []
    },
    {
      "cell_type": "code",
      "source": [
        "#NESTE LAÇO DE REPETIÇÃO, CADA VEZ QUE O MESMO É EXECUTADO, TRAS UMA PUBLICAÇÃO\n",
        "for twitters in meus_tweets:\n",
        "#IMPRIME A DATA DE CRIAÇÃO  \n",
        "  print(twitters.created_at)\n",
        "#INSERINDO QUEBRADE LINHA ENTRE UM REGISTRO E OUTRO  \n",
        "  print(twitters.text,  '\\n')"
      ],
      "metadata": {
        "id": "ANNwTxWm1OLg"
      },
      "execution_count": null,
      "outputs": []
    },
    {
      "cell_type": "code",
      "source": [
        "#FAZENDO A PESQUISA DENTRO DE UMA PUBLICAÇÃO, ATRAVÉS DO MÉTODO 'SEARCH()'.\n",
        "#API É O OBJETO QUE NOS PERMITE \"CONVERSAR\" com a API DO TWITTER\n",
        "#search() É O MÉTODO DA API QUE DISPARA A PESQUISA\n",
        "#q=\"FUTEBOL\" É O TEXTO QUE SERÁ PESQUISADO. q= É DE USO OBRIGATÓRIO.\n",
        "api.search(q='futebol')"
      ],
      "metadata": {
        "id": "1LrHEPCv1ZFw"
      },
      "execution_count": null,
      "outputs": []
    },
    {
      "cell_type": "code",
      "source": [
        "#PESQUISANDO UMA HASHTAG\n",
        "pesquisa = api.search(q=\"#brasileirao\")\n",
        "\n",
        "for twitters in pesquisa:\n",
        "  print(twitters.text)"
      ],
      "metadata": {
        "id": "Cc_gch801mZP"
      },
      "execution_count": null,
      "outputs": []
    }
  ]
}